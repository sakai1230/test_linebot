{
 "cells": [
  {
   "cell_type": "code",
   "execution_count": 1,
   "metadata": {},
   "outputs": [
    {
     "name": "stdout",
     "output_type": "stream",
     "text": [
      "Requirement already satisfied: line-bot-sdk in c:\\users\\tente\\appdata\\local\\programs\\python\\python39\\lib\\site-packages (2.3.0)\n",
      "Requirement already satisfied: requests>=2.0 in c:\\users\\tente\\appdata\\local\\programs\\python\\python39\\lib\\site-packages (from line-bot-sdk) (2.28.1)\n",
      "Requirement already satisfied: future in c:\\users\\tente\\appdata\\local\\programs\\python\\python39\\lib\\site-packages (from line-bot-sdk) (0.18.2)\n",
      "Requirement already satisfied: aiohttp>=3.7.4 in c:\\users\\tente\\appdata\\local\\programs\\python\\python39\\lib\\site-packages (from line-bot-sdk) (3.8.1)\n",
      "Requirement already satisfied: async-timeout<5.0,>=4.0.0a3 in c:\\users\\tente\\appdata\\local\\programs\\python\\python39\\lib\\site-packages (from aiohttp>=3.7.4->line-bot-sdk) (4.0.2)\n",
      "Requirement already satisfied: aiosignal>=1.1.2 in c:\\users\\tente\\appdata\\local\\programs\\python\\python39\\lib\\site-packages (from aiohttp>=3.7.4->line-bot-sdk) (1.2.0)\n",
      "Requirement already satisfied: multidict<7.0,>=4.5 in c:\\users\\tente\\appdata\\local\\programs\\python\\python39\\lib\\site-packages (from aiohttp>=3.7.4->line-bot-sdk) (6.0.2)\n",
      "Requirement already satisfied: frozenlist>=1.1.1 in c:\\users\\tente\\appdata\\local\\programs\\python\\python39\\lib\\site-packages (from aiohttp>=3.7.4->line-bot-sdk) (1.3.1)\n",
      "Requirement already satisfied: attrs>=17.3.0 in c:\\users\\tente\\appdata\\local\\programs\\python\\python39\\lib\\site-packages (from aiohttp>=3.7.4->line-bot-sdk) (20.3.0)\n",
      "Requirement already satisfied: charset-normalizer<3.0,>=2.0 in c:\\users\\tente\\appdata\\local\\programs\\python\\python39\\lib\\site-packages (from aiohttp>=3.7.4->line-bot-sdk) (2.1.0)\n",
      "Requirement already satisfied: yarl<2.0,>=1.0 in c:\\users\\tente\\appdata\\local\\programs\\python\\python39\\lib\\site-packages (from aiohttp>=3.7.4->line-bot-sdk) (1.8.1)\n",
      "Requirement already satisfied: certifi>=2017.4.17 in c:\\users\\tente\\appdata\\local\\programs\\python\\python39\\lib\\site-packages (from requests>=2.0->line-bot-sdk) (2022.6.15)\n",
      "Requirement already satisfied: urllib3<1.27,>=1.21.1 in c:\\users\\tente\\appdata\\local\\programs\\python\\python39\\lib\\site-packages (from requests>=2.0->line-bot-sdk) (1.26.11)\n",
      "Requirement already satisfied: idna<4,>=2.5 in c:\\users\\tente\\appdata\\local\\programs\\python\\python39\\lib\\site-packages (from requests>=2.0->line-bot-sdk) (3.3)\n",
      "\n",
      "[notice] A new release of pip available: 22.2 -> 22.2.2\n",
      "[notice] To update, run: python.exe -m pip install --upgrade pip\n"
     ]
    }
   ],
   "source": [
    "!pip install line-bot-sdk"
   ]
  },
  {
   "cell_type": "code",
   "execution_count": 5,
   "metadata": {},
   "outputs": [],
   "source": [
    "from linebot import LineBotApi\n",
    "from linebot.models import TextSendMessage\n"
   ]
  },
  {
   "cell_type": "code",
   "execution_count": 3,
   "metadata": {},
   "outputs": [],
   "source": [
    "CHANNEL_ACCESS_TOKEN = 'SEJ26ZEb0DM7IUhv/BQNmczqT379XuPxxkUZ0s+bGq5iWKjW7DLihxWyzNerUNGN/PEZfOjeihuxtygdiv3KNuMrpcE1IgMX/XySPckk9oYBcmhS+UY4haRqORZrmW8VbQxKetjR8Xnj0vvuwGDogAdB04t89/1O/w1cDnyilFU='\n",
    "line_bot_api = LineBotApi(CHANNEL_ACCESS_TOKEN)"
   ]
  },
  {
   "cell_type": "code",
   "execution_count": 8,
   "metadata": {},
   "outputs": [],
   "source": [
    "def main():\n",
    "    USER_ID = 'Uc61807301977299f45ab29dbe3437d5f'\n",
    "    messages = TextSendMessage(text='やあ')\n",
    "    line_bot_api.push_message(USER_ID, messages)\n",
    "\n",
    "if __name__ == \"__main__\":\n",
    "    main()"
   ]
  },
  {
   "cell_type": "code",
   "execution_count": null,
   "metadata": {},
   "outputs": [],
   "source": []
  }
 ],
 "metadata": {
  "kernelspec": {
   "display_name": "Python 3.9.4 64-bit",
   "language": "python",
   "name": "python3"
  },
  "language_info": {
   "codemirror_mode": {
    "name": "ipython",
    "version": 3
   },
   "file_extension": ".py",
   "mimetype": "text/x-python",
   "name": "python",
   "nbconvert_exporter": "python",
   "pygments_lexer": "ipython3",
   "version": "3.9.4"
  },
  "orig_nbformat": 4,
  "vscode": {
   "interpreter": {
    "hash": "b58c97325b31429212130db7cdf6ac8cbad801c8aea9ad69f4b716907cf503e9"
   }
  }
 },
 "nbformat": 4,
 "nbformat_minor": 2
}
